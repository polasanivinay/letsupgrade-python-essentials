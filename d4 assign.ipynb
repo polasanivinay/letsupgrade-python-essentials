{
 "cells": [
  {
   "cell_type": "code",
   "execution_count": 1,
   "metadata": {},
   "outputs": [],
   "source": [
    "#WHILE LOOP"
   ]
  },
  {
   "cell_type": "code",
   "execution_count": 3,
   "metadata": {},
   "outputs": [
    {
     "name": "stdout",
     "output_type": "stream",
     "text": [
      "1\n",
      "2\n",
      "3\n",
      "4\n",
      "5\n",
      "6\n",
      "7\n",
      "8\n",
      "9\n"
     ]
    }
   ],
   "source": [
    "i=1\n",
    "while i<10:\n",
    "    print(i)\n",
    "    i=i+1"
   ]
  },
  {
   "cell_type": "code",
   "execution_count": 6,
   "metadata": {},
   "outputs": [
    {
     "name": "stdout",
     "output_type": "stream",
     "text": [
      "num is even 2\n",
      "num is even 4\n",
      "num is even 6\n",
      "num is even 8\n",
      "num is even 10\n",
      "num is even 12\n",
      "num is even 14\n",
      "num is even 16\n",
      "num is even 18\n",
      "num is even 20\n",
      "num is even 22\n",
      "num is even 24\n",
      "num is even 26\n",
      "num is even 28\n",
      "num is even 30\n",
      "num is even 32\n",
      "num is even 34\n",
      "num is even 36\n",
      "num is even 38\n",
      "num is even 40\n",
      "num is even 42\n",
      "num is even 44\n",
      "num is even 46\n",
      "num is even 48\n",
      "num is even 50\n",
      "num is even 52\n",
      "num is even 54\n",
      "num is even 56\n",
      "num is even 58\n",
      "num is even 60\n",
      "num is even 62\n",
      "num is even 64\n",
      "num is even 66\n",
      "num is even 68\n",
      "num is even 70\n",
      "num is even 72\n",
      "num is even 74\n",
      "num is even 76\n",
      "num is even 78\n",
      "num is even 80\n",
      "num is even 82\n",
      "num is even 84\n",
      "num is even 86\n",
      "num is even 88\n",
      "num is even 90\n",
      "num is even 92\n",
      "num is even 94\n",
      "num is even 96\n",
      "num is even 98\n"
     ]
    }
   ],
   "source": [
    "i=1\n",
    "while i<100:\n",
    "    if i%2==0:\n",
    "        print(\"num is even\",i)\n",
    "    i=i+1"
   ]
  },
  {
   "cell_type": "code",
   "execution_count": 7,
   "metadata": {},
   "outputs": [],
   "source": [
    "#break exits the loop"
   ]
  },
  {
   "cell_type": "code",
   "execution_count": 9,
   "metadata": {},
   "outputs": [
    {
     "name": "stdout",
     "output_type": "stream",
     "text": [
      "1\n",
      "2\n",
      "3\n",
      "4\n",
      "5\n"
     ]
    }
   ],
   "source": [
    "for i in range(1,10):\n",
    "    print(i)\n",
    "    if i==5:\n",
    "        break"
   ]
  },
  {
   "cell_type": "code",
   "execution_count": 10,
   "metadata": {},
   "outputs": [],
   "source": [
    "# continue skips current iteration loop"
   ]
  },
  {
   "cell_type": "code",
   "execution_count": 24,
   "metadata": {},
   "outputs": [
    {
     "name": "stdout",
     "output_type": "stream",
     "text": [
      "1\n",
      "observe\n",
      "2\n",
      "observe\n",
      "3\n",
      "observe\n",
      "4\n",
      "observe\n",
      "5\n",
      "6\n",
      "observe\n",
      "7\n",
      "observe\n",
      "8\n",
      "observe\n",
      "9\n",
      "observe\n"
     ]
    }
   ],
   "source": [
    "for i in range(1,10):\n",
    "    print(i)\n",
    "    if i==5:\n",
    "        continue\n",
    "    print(\"observe\")"
   ]
  },
  {
   "cell_type": "code",
   "execution_count": 25,
   "metadata": {},
   "outputs": [],
   "source": [
    "#PASS it does nothing and is used as a place holder"
   ]
  },
  {
   "cell_type": "code",
   "execution_count": 34,
   "metadata": {},
   "outputs": [],
   "source": [
    "i=1\n",
    "for i in range(1,100):\n",
    "    pass\n",
    "    "
   ]
  },
  {
   "cell_type": "code",
   "execution_count": 51,
   "metadata": {},
   "outputs": [],
   "source": [
    "#FILE HANDLING"
   ]
  },
  {
   "cell_type": "code",
   "execution_count": 52,
   "metadata": {},
   "outputs": [],
   "source": [
    "file=open(\"vinay.txt\",\"w\")\n",
    "file.write(\"iam from nzb\")\n",
    "file.close()\n"
   ]
  },
  {
   "cell_type": "code",
   "execution_count": 53,
   "metadata": {},
   "outputs": [
    {
     "name": "stdout",
     "output_type": "stream",
     "text": [
      "iam from nzb\n"
     ]
    }
   ],
   "source": [
    "file= open(\"vinay.txt\",\"r\")\n",
    "fileData=file.read()\n",
    "print(fileData)\n",
    "file.close()"
   ]
  },
  {
   "cell_type": "code",
   "execution_count": 54,
   "metadata": {},
   "outputs": [],
   "source": [
    "#APPEND\n"
   ]
  },
  {
   "cell_type": "code",
   "execution_count": 55,
   "metadata": {},
   "outputs": [],
   "source": [
    "file=open(\"vinay.txt\",\"a\")\n",
    "file.write(\"\\nh.no 5-3\")\n",
    "file.close()"
   ]
  },
  {
   "cell_type": "code",
   "execution_count": 56,
   "metadata": {},
   "outputs": [
    {
     "data": {
      "text/plain": [
       "'iam from nzb'"
      ]
     },
     "execution_count": 56,
     "metadata": {},
     "output_type": "execute_result"
    }
   ],
   "source": [
    "fileData"
   ]
  },
  {
   "cell_type": "code",
   "execution_count": 57,
   "metadata": {},
   "outputs": [
    {
     "name": "stdout",
     "output_type": "stream",
     "text": [
      "iam from nzb\n",
      "h.no 5-3\n"
     ]
    }
   ],
   "source": [
    "file= open(\"vinay.txt\",\"r\")\n",
    "fileData=file.read()\n",
    "print(fileData)\n",
    "file.close()"
   ]
  },
  {
   "cell_type": "code",
   "execution_count": 62,
   "metadata": {},
   "outputs": [],
   "source": [
    "#ARM STRONG NUMBER BETWEEN 1042000 TO 702648265"
   ]
  },
  {
   "cell_type": "code",
   "execution_count": 12,
   "metadata": {},
   "outputs": [
    {
     "name": "stdout",
     "output_type": "stream",
     "text": [
      "1st armstrong no is 1\n"
     ]
    }
   ],
   "source": [
    "for i in range(1,1000):\n",
    "    temp=i\n",
    "    sum=0\n",
    "    while temp>0:\n",
    "        n=temp%10\n",
    "        sum+=n**3\n",
    "        temp//=10\n",
    "    if i==sum:\n",
    "        print(\"1st armstrong no is\",i)\n",
    "        break"
   ]
  },
  {
   "cell_type": "code",
   "execution_count": 14,
   "metadata": {},
   "outputs": [
    {
     "name": "stdout",
     "output_type": "stream",
     "text": [
      "Enter lower range: 4\n",
      "Enter upper range: 4000\n",
      "153\n"
     ]
    }
   ],
   "source": [
    "lower = int(input(\"Enter lower range: \"))\n",
    "upper = int(input(\"Enter upper range: \"))\n",
    " \n",
    "for num in range(lower,upper + 1):\n",
    "   # initialize sum\n",
    "   sum = 0\n",
    "   temp = num\n",
    "   while temp > 0:\n",
    "       digit = temp % 10\n",
    "       sum += digit ** 3\n",
    "       temp //= 10\n",
    " \n",
    "   if num == sum:\n",
    "        print(num)\n",
    "        break"
   ]
  },
  {
   "cell_type": "code",
   "execution_count": null,
   "metadata": {},
   "outputs": [],
   "source": [
    "\n"
   ]
  },
  {
   "cell_type": "code",
   "execution_count": null,
   "metadata": {},
   "outputs": [],
   "source": []
  }
 ],
 "metadata": {
  "kernelspec": {
   "display_name": "Python 3",
   "language": "python",
   "name": "python3"
  },
  "language_info": {
   "codemirror_mode": {
    "name": "ipython",
    "version": 3
   },
   "file_extension": ".py",
   "mimetype": "text/x-python",
   "name": "python",
   "nbconvert_exporter": "python",
   "pygments_lexer": "ipython3",
   "version": "3.8.3"
  }
 },
 "nbformat": 4,
 "nbformat_minor": 4
}
